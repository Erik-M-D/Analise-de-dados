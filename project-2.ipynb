{
 "cells": [
  {
   "cell_type": "code",
   "execution_count": null,
   "metadata": {},
   "outputs": [],
   "source": [
    "import pandas as pd\n",
    "import plotly.express as px\n",
    "#!pip install plotly"
   ]
  },
  {
   "cell_type": "code",
   "execution_count": null,
   "metadata": {},
   "outputs": [],
   "source": [
    "tabela = pd.read_csv(\"cancelamentos.csv\")"
   ]
  },
  {
   "cell_type": "code",
   "execution_count": null,
   "metadata": {},
   "outputs": [],
   "source": [
    "#tabela.info()\n",
    "display(tabela)"
   ]
  },
  {
   "cell_type": "code",
   "execution_count": null,
   "metadata": {},
   "outputs": [],
   "source": [
    "tabela = tabela.drop(columns=\"CustomerID\")\n",
    "\n",
    "# Tirar linhas vazias\n",
    "\n",
    "tabela = tabela.dropna()"
   ]
  },
  {
   "cell_type": "code",
   "execution_count": null,
   "metadata": {},
   "outputs": [],
   "source": [
    "tabela.info()"
   ]
  },
  {
   "cell_type": "code",
   "execution_count": null,
   "metadata": {},
   "outputs": [],
   "source": [
    "tabela.info()"
   ]
  },
  {
   "cell_type": "code",
   "execution_count": null,
   "metadata": {},
   "outputs": [],
   "source": [
    "tabela[\"cancelou\"].value_counts(normalize=True)"
   ]
  },
  {
   "cell_type": "code",
   "execution_count": null,
   "metadata": {},
   "outputs": [],
   "source": [
    "figura = px.histogram(tabela, x=\"cancelou\", color=\"cancelou\")\n",
    "figura.show()"
   ]
  },
  {
   "cell_type": "code",
   "execution_count": null,
   "metadata": {},
   "outputs": [],
   "source": [
    "# fazer um grafico para cada coluna\n",
    "\n",
    "for coluna in tabela.columns:\n",
    "    figura = px.histogram(tabela, x=coluna, color=\"cancelou\")\n",
    "    figura.show()"
   ]
  },
  {
   "cell_type": "code",
   "execution_count": null,
   "metadata": {},
   "outputs": [],
   "source": [
    "#condicao = tabela[]\n",
    "#tabela[condicao]\n",
    "\n",
    "figura = px.histogram(tabela, x=\"dias_atraso\", color=\"cancelou\")\n",
    "figura.show()\n",
    "# mensal CANCELA\n",
    "tabela = tabela[tabela[\"duracao_contrato\"]!=\"Monthly\"]\n",
    "\n",
    "# Ligações maior que 4 CANCELA\n",
    "tabela = tabela[tabela[\"ligacoes_callcenter\"]<=4]\n",
    "# Dias de atraso maior que 20 CANCELA\n",
    "tabela = tabela[tabela[\"dias_atraso\"]<=20]\n",
    "\n",
    "figura = px.histogram(tabela, x=\"dias_atraso\", color=\"cancelou\")\n",
    "figura.show()\n",
    "tabela[\"cancelou\"].value_counts(normalize=True)"
   ]
  },
  {
   "cell_type": "markdown",
   "metadata": {},
   "source": [
    "* Quem está no plano mensal normalmente cancela\n",
    "\n",
    "\n",
    "* **Solução:** Dar maiores descontos em outros planos para diminuir o plano mensal!\n",
    "\n",
    "\n",
    "* Quem tem que ligar mais que 4 vezes para o call-center cancela o serviço!\n",
    "\n",
    "* **Solução** Coordenar equipe do call-center para solucionar problemas mais rápido, ou solucionar um problema comum facilmente!\n",
    "\n",
    "\n",
    "* Quem atrasa o pagamento por mais de 20 dias cancela!\n",
    "\n",
    "* **Solução:** Orientar a equipe financeira para lidar com os atrasos o quanto antes!"
   ]
  },
  {
   "cell_type": "markdown",
   "metadata": {},
   "source": [
    "Podendo Reduzir a taxa de cancelamento de **56%** para **18%**\n",
    "\n",
    "<h2> Uma redução de <strong>38%</strong></h2>"
   ]
  }
 ],
 "metadata": {
  "kernelspec": {
   "display_name": "base",
   "language": "python",
   "name": "python3"
  },
  "language_info": {
   "codemirror_mode": {
    "name": "ipython",
    "version": 3
   },
   "file_extension": ".py",
   "mimetype": "text/x-python",
   "name": "python",
   "nbconvert_exporter": "python",
   "pygments_lexer": "ipython3",
   "version": "3.11.5"
  }
 },
 "nbformat": 4,
 "nbformat_minor": 2
}
